{
 "cells": [
  {
   "cell_type": "markdown",
   "id": "22f9dc65",
   "metadata": {},
   "source": [
    "### Implementing CNN on the extracted MFCC dataset"
   ]
  },
  {
   "cell_type": "markdown",
   "id": "0a3d1536",
   "metadata": {},
   "source": [
    "#### Data preprocessing"
   ]
  },
  {
   "cell_type": "code",
   "execution_count": 2,
   "id": "3a4c1a43",
   "metadata": {},
   "outputs": [],
   "source": [
    "import numpy as np\n",
    "import pandas as pd\n",
    "\n",
    "data = pd.DataFrame(np.load(\"dataset_mfcc.npy\",allow_pickle= True))\n",
    "data.columns = ['feature', 'label']\n",
    "\n",
    "from sklearn.preprocessing import LabelEncoder\n",
    "\n",
    "X = np.array(data.feature.tolist())\n",
    "y = np.array(data.label.tolist())\n",
    "from sklearn.model_selection import train_test_split\n",
    "X,val_x,y,val_y = train_test_split(X,y)\n",
    "lb = LabelEncoder()\n",
    "\n",
    "from keras.utils import np_utils\n",
    "\n",
    "y = np_utils.to_categorical(lb.fit_transform(y))\n",
    "val_y = np_utils.to_categorical(lb.fit_transform(val_y))"
   ]
  },
  {
   "cell_type": "markdown",
   "id": "f3f89037",
   "metadata": {},
   "source": [
    "#### Building the model"
   ]
  },
  {
   "cell_type": "code",
   "execution_count": 5,
   "id": "59d8620f",
   "metadata": {},
   "outputs": [
    {
     "name": "stderr",
     "output_type": "stream",
     "text": [
      "2022-05-25 14:05:21.282524: I tensorflow/core/platform/cpu_feature_guard.cc:151] This TensorFlow binary is optimized with oneAPI Deep Neural Network Library (oneDNN) to use the following CPU instructions in performance-critical operations:  AVX2 FMA\n",
      "To enable them in other operations, rebuild TensorFlow with the appropriate compiler flags.\n"
     ]
    }
   ],
   "source": [
    "import numpy as np\n",
    "from tensorflow.keras.models import Sequential\n",
    "from tensorflow.keras.layers import Dense, Dropout, Activation, Flatten\n",
    "from tensorflow.keras.layers import Convolution2D, MaxPooling2D\n",
    "from tensorflow.keras.optimizers import Adam\n",
    "from keras.utils import np_utils\n",
    "from sklearn import metrics \n",
    "\n",
    "\n",
    "\n",
    "num_labels = y.shape[1]\n",
    "filter_size = 3\n",
    "\n",
    "\n",
    "\n",
    "# build model\n",
    "model = Sequential()\n",
    "\n",
    "\n",
    "model.add(Dense(512, input_shape=(40,)))\n",
    "model.add(Activation('relu'))\n",
    "model.add(Dropout(0.5))\n",
    "\n",
    "\n",
    "model.add(Dense(256))\n",
    "model.add(Activation('relu'))\n",
    "model.add(Dropout(0.5))\n",
    "\n",
    "\n",
    "model.add(Dense(num_labels))\n",
    "model.add(Activation('softmax'))\n",
    "\n",
    "\n",
    "\n",
    "model.compile(loss='categorical_crossentropy', metrics=['accuracy'], optimizer='adam')"
   ]
  },
  {
   "cell_type": "code",
   "execution_count": 6,
   "id": "e4c5e2bb",
   "metadata": {},
   "outputs": [
    {
     "name": "stdout",
     "output_type": "stream",
     "text": [
      "Model: \"sequential\"\n",
      "_________________________________________________________________\n",
      " Layer (type)                Output Shape              Param #   \n",
      "=================================================================\n",
      " dense (Dense)               (None, 512)               20992     \n",
      "                                                                 \n",
      " activation (Activation)     (None, 512)               0         \n",
      "                                                                 \n",
      " dropout (Dropout)           (None, 512)               0         \n",
      "                                                                 \n",
      " dense_1 (Dense)             (None, 256)               131328    \n",
      "                                                                 \n",
      " activation_1 (Activation)   (None, 256)               0         \n",
      "                                                                 \n",
      " dropout_1 (Dropout)         (None, 256)               0         \n",
      "                                                                 \n",
      " dense_2 (Dense)             (None, 10)                2570      \n",
      "                                                                 \n",
      " activation_2 (Activation)   (None, 10)                0         \n",
      "                                                                 \n",
      "=================================================================\n",
      "Total params: 154,890\n",
      "Trainable params: 154,890\n",
      "Non-trainable params: 0\n",
      "_________________________________________________________________\n"
     ]
    }
   ],
   "source": [
    "model.summary()"
   ]
  },
  {
   "cell_type": "code",
   "execution_count": 8,
   "id": "2f94249a",
   "metadata": {},
   "outputs": [
    {
     "name": "stdout",
     "output_type": "stream",
     "text": [
      "Epoch 1/64\n",
      "103/103 [==============================] - 1s 7ms/step - loss: 0.6651 - accuracy: 0.7745 - val_loss: 0.5482 - val_accuracy: 0.8424\n",
      "Epoch 2/64\n",
      "103/103 [==============================] - 1s 6ms/step - loss: 0.6672 - accuracy: 0.7714 - val_loss: 0.5337 - val_accuracy: 0.8543\n",
      "Epoch 3/64\n",
      "103/103 [==============================] - 1s 5ms/step - loss: 0.6270 - accuracy: 0.7827 - val_loss: 0.5311 - val_accuracy: 0.8511\n",
      "Epoch 4/64\n",
      "103/103 [==============================] - 1s 7ms/step - loss: 0.6222 - accuracy: 0.7847 - val_loss: 0.5188 - val_accuracy: 0.8484\n",
      "Epoch 5/64\n",
      "103/103 [==============================] - 1s 6ms/step - loss: 0.6101 - accuracy: 0.7940 - val_loss: 0.5117 - val_accuracy: 0.8461\n",
      "Epoch 6/64\n",
      "103/103 [==============================] - 1s 6ms/step - loss: 0.6176 - accuracy: 0.7907 - val_loss: 0.5150 - val_accuracy: 0.8493\n",
      "Epoch 7/64\n",
      "103/103 [==============================] - 1s 5ms/step - loss: 0.5968 - accuracy: 0.7926 - val_loss: 0.5095 - val_accuracy: 0.8484\n",
      "Epoch 8/64\n",
      "103/103 [==============================] - 1s 6ms/step - loss: 0.5930 - accuracy: 0.8006 - val_loss: 0.4895 - val_accuracy: 0.8562\n",
      "Epoch 9/64\n",
      "103/103 [==============================] - 1s 5ms/step - loss: 0.5982 - accuracy: 0.7881 - val_loss: 0.4825 - val_accuracy: 0.8607\n",
      "Epoch 10/64\n",
      "103/103 [==============================] - 1s 5ms/step - loss: 0.5749 - accuracy: 0.7986 - val_loss: 0.4920 - val_accuracy: 0.8543\n",
      "Epoch 11/64\n",
      "103/103 [==============================] - 1s 8ms/step - loss: 0.5526 - accuracy: 0.8055 - val_loss: 0.4832 - val_accuracy: 0.8530\n",
      "Epoch 12/64\n",
      "103/103 [==============================] - 1s 5ms/step - loss: 0.5662 - accuracy: 0.8032 - val_loss: 0.4774 - val_accuracy: 0.8589\n",
      "Epoch 13/64\n",
      "103/103 [==============================] - 1s 5ms/step - loss: 0.5682 - accuracy: 0.8075 - val_loss: 0.4614 - val_accuracy: 0.8699\n",
      "Epoch 14/64\n",
      "103/103 [==============================] - 1s 6ms/step - loss: 0.5220 - accuracy: 0.8181 - val_loss: 0.4547 - val_accuracy: 0.8598\n",
      "Epoch 15/64\n",
      "103/103 [==============================] - 1s 6ms/step - loss: 0.5391 - accuracy: 0.8142 - val_loss: 0.4327 - val_accuracy: 0.8704\n",
      "Epoch 16/64\n",
      "103/103 [==============================] - 1s 6ms/step - loss: 0.5122 - accuracy: 0.8233 - val_loss: 0.4165 - val_accuracy: 0.8786\n",
      "Epoch 17/64\n",
      "103/103 [==============================] - 1s 7ms/step - loss: 0.5143 - accuracy: 0.8210 - val_loss: 0.4329 - val_accuracy: 0.8704\n",
      "Epoch 18/64\n",
      "103/103 [==============================] - 1s 6ms/step - loss: 0.5082 - accuracy: 0.8268 - val_loss: 0.4423 - val_accuracy: 0.8653\n",
      "Epoch 19/64\n",
      "103/103 [==============================] - 1s 6ms/step - loss: 0.5105 - accuracy: 0.8192 - val_loss: 0.4398 - val_accuracy: 0.8731\n",
      "Epoch 20/64\n",
      "103/103 [==============================] - 1s 7ms/step - loss: 0.4952 - accuracy: 0.8336 - val_loss: 0.4373 - val_accuracy: 0.8809\n",
      "Epoch 21/64\n",
      "103/103 [==============================] - 1s 7ms/step - loss: 0.5005 - accuracy: 0.8267 - val_loss: 0.4388 - val_accuracy: 0.8745\n",
      "Epoch 22/64\n",
      "103/103 [==============================] - 1s 5ms/step - loss: 0.4974 - accuracy: 0.8304 - val_loss: 0.4235 - val_accuracy: 0.8781\n",
      "Epoch 23/64\n",
      "103/103 [==============================] - 1s 8ms/step - loss: 0.4837 - accuracy: 0.8316 - val_loss: 0.4130 - val_accuracy: 0.8846\n",
      "Epoch 24/64\n",
      "103/103 [==============================] - 1s 6ms/step - loss: 0.4865 - accuracy: 0.8328 - val_loss: 0.4120 - val_accuracy: 0.8791\n",
      "Epoch 25/64\n",
      "103/103 [==============================] - 1s 6ms/step - loss: 0.4740 - accuracy: 0.8374 - val_loss: 0.4143 - val_accuracy: 0.8846\n",
      "Epoch 26/64\n",
      "103/103 [==============================] - 1s 7ms/step - loss: 0.4525 - accuracy: 0.8462 - val_loss: 0.4050 - val_accuracy: 0.8818\n",
      "Epoch 27/64\n",
      "103/103 [==============================] - 1s 8ms/step - loss: 0.4727 - accuracy: 0.8337 - val_loss: 0.4086 - val_accuracy: 0.8841\n",
      "Epoch 28/64\n",
      "103/103 [==============================] - 1s 8ms/step - loss: 0.4616 - accuracy: 0.8403 - val_loss: 0.4049 - val_accuracy: 0.8891\n",
      "Epoch 29/64\n",
      "103/103 [==============================] - 1s 6ms/step - loss: 0.4488 - accuracy: 0.8487 - val_loss: 0.3893 - val_accuracy: 0.8873\n",
      "Epoch 30/64\n",
      "103/103 [==============================] - 1s 9ms/step - loss: 0.4536 - accuracy: 0.8429 - val_loss: 0.3999 - val_accuracy: 0.8827\n",
      "Epoch 31/64\n",
      "103/103 [==============================] - 1s 10ms/step - loss: 0.4314 - accuracy: 0.8513 - val_loss: 0.3976 - val_accuracy: 0.8878\n",
      "Epoch 32/64\n",
      "103/103 [==============================] - 0s 5ms/step - loss: 0.4324 - accuracy: 0.8478 - val_loss: 0.3804 - val_accuracy: 0.8919\n",
      "Epoch 33/64\n",
      "103/103 [==============================] - 1s 5ms/step - loss: 0.4292 - accuracy: 0.8530 - val_loss: 0.3963 - val_accuracy: 0.8882\n",
      "Epoch 34/64\n",
      "103/103 [==============================] - 1s 5ms/step - loss: 0.4356 - accuracy: 0.8487 - val_loss: 0.3822 - val_accuracy: 0.8891\n",
      "Epoch 35/64\n",
      "103/103 [==============================] - 0s 5ms/step - loss: 0.4413 - accuracy: 0.8519 - val_loss: 0.3831 - val_accuracy: 0.8946\n",
      "Epoch 36/64\n",
      "103/103 [==============================] - 0s 5ms/step - loss: 0.4366 - accuracy: 0.8516 - val_loss: 0.3983 - val_accuracy: 0.8901\n",
      "Epoch 37/64\n",
      "103/103 [==============================] - 0s 4ms/step - loss: 0.3937 - accuracy: 0.8620 - val_loss: 0.3803 - val_accuracy: 0.8956\n",
      "Epoch 38/64\n",
      "103/103 [==============================] - 1s 5ms/step - loss: 0.4236 - accuracy: 0.8536 - val_loss: 0.3797 - val_accuracy: 0.8873\n",
      "Epoch 39/64\n",
      "103/103 [==============================] - 1s 5ms/step - loss: 0.4275 - accuracy: 0.8565 - val_loss: 0.4055 - val_accuracy: 0.8818\n",
      "Epoch 40/64\n",
      "103/103 [==============================] - 0s 5ms/step - loss: 0.4157 - accuracy: 0.8581 - val_loss: 0.3842 - val_accuracy: 0.8905\n",
      "Epoch 41/64\n",
      "103/103 [==============================] - 1s 6ms/step - loss: 0.4276 - accuracy: 0.8519 - val_loss: 0.3758 - val_accuracy: 0.8951\n",
      "Epoch 42/64\n",
      "103/103 [==============================] - 0s 5ms/step - loss: 0.4152 - accuracy: 0.8586 - val_loss: 0.3932 - val_accuracy: 0.8841\n",
      "Epoch 43/64\n",
      "103/103 [==============================] - 0s 5ms/step - loss: 0.4035 - accuracy: 0.8621 - val_loss: 0.3939 - val_accuracy: 0.8951\n",
      "Epoch 44/64\n",
      "103/103 [==============================] - 0s 5ms/step - loss: 0.4143 - accuracy: 0.8549 - val_loss: 0.3736 - val_accuracy: 0.8905\n",
      "Epoch 45/64\n",
      "103/103 [==============================] - 0s 5ms/step - loss: 0.4076 - accuracy: 0.8627 - val_loss: 0.3927 - val_accuracy: 0.8992\n",
      "Epoch 46/64\n",
      "103/103 [==============================] - 1s 5ms/step - loss: 0.3928 - accuracy: 0.8665 - val_loss: 0.3718 - val_accuracy: 0.8956\n",
      "Epoch 47/64\n",
      "103/103 [==============================] - 0s 5ms/step - loss: 0.3851 - accuracy: 0.8710 - val_loss: 0.3694 - val_accuracy: 0.8969\n",
      "Epoch 48/64\n",
      "103/103 [==============================] - 0s 5ms/step - loss: 0.3652 - accuracy: 0.8710 - val_loss: 0.3798 - val_accuracy: 0.8969\n",
      "Epoch 49/64\n",
      "103/103 [==============================] - 1s 5ms/step - loss: 0.4087 - accuracy: 0.8618 - val_loss: 0.3769 - val_accuracy: 0.8946\n",
      "Epoch 50/64\n",
      "103/103 [==============================] - 0s 5ms/step - loss: 0.4096 - accuracy: 0.8592 - val_loss: 0.3805 - val_accuracy: 0.8956\n",
      "Epoch 51/64\n",
      "103/103 [==============================] - 0s 5ms/step - loss: 0.3828 - accuracy: 0.8684 - val_loss: 0.3809 - val_accuracy: 0.8960\n",
      "Epoch 52/64\n",
      "103/103 [==============================] - 0s 5ms/step - loss: 0.3758 - accuracy: 0.8681 - val_loss: 0.3665 - val_accuracy: 0.9052\n",
      "Epoch 53/64\n",
      "103/103 [==============================] - 0s 5ms/step - loss: 0.3724 - accuracy: 0.8685 - val_loss: 0.3792 - val_accuracy: 0.8974\n",
      "Epoch 54/64\n",
      "103/103 [==============================] - 1s 5ms/step - loss: 0.3703 - accuracy: 0.8713 - val_loss: 0.3737 - val_accuracy: 0.9066\n",
      "Epoch 55/64\n",
      "103/103 [==============================] - 0s 4ms/step - loss: 0.3452 - accuracy: 0.8809 - val_loss: 0.3611 - val_accuracy: 0.9047\n",
      "Epoch 56/64\n",
      "103/103 [==============================] - 0s 4ms/step - loss: 0.3725 - accuracy: 0.8759 - val_loss: 0.3653 - val_accuracy: 0.9075\n",
      "Epoch 57/64\n",
      "103/103 [==============================] - 1s 5ms/step - loss: 0.3637 - accuracy: 0.8785 - val_loss: 0.3681 - val_accuracy: 0.9011\n",
      "Epoch 58/64\n"
     ]
    },
    {
     "name": "stdout",
     "output_type": "stream",
     "text": [
      "103/103 [==============================] - 0s 5ms/step - loss: 0.3616 - accuracy: 0.8775 - val_loss: 0.3674 - val_accuracy: 0.8969\n",
      "Epoch 59/64\n",
      "103/103 [==============================] - 0s 5ms/step - loss: 0.3820 - accuracy: 0.8667 - val_loss: 0.3703 - val_accuracy: 0.8969\n",
      "Epoch 60/64\n",
      "103/103 [==============================] - 0s 4ms/step - loss: 0.3552 - accuracy: 0.8803 - val_loss: 0.3835 - val_accuracy: 0.8988\n",
      "Epoch 61/64\n",
      "103/103 [==============================] - 0s 5ms/step - loss: 0.3457 - accuracy: 0.8844 - val_loss: 0.3748 - val_accuracy: 0.9015\n",
      "Epoch 62/64\n",
      "103/103 [==============================] - 1s 5ms/step - loss: 0.3415 - accuracy: 0.8778 - val_loss: 0.3714 - val_accuracy: 0.9047\n",
      "Epoch 63/64\n",
      "103/103 [==============================] - 0s 5ms/step - loss: 0.3543 - accuracy: 0.8739 - val_loss: 0.3805 - val_accuracy: 0.9011\n",
      "Epoch 64/64\n",
      "103/103 [==============================] - 0s 5ms/step - loss: 0.3560 - accuracy: 0.8789 - val_loss: 0.3526 - val_accuracy: 0.9107\n"
     ]
    },
    {
     "data": {
      "text/plain": [
       "<keras.callbacks.History at 0x7fdfb3a34610>"
      ]
     },
     "execution_count": 8,
     "metadata": {},
     "output_type": "execute_result"
    }
   ],
   "source": [
    "model.fit(X, y, batch_size=64, epochs=64, validation_data=(val_x, val_y))"
   ]
  },
  {
   "cell_type": "markdown",
   "id": "b72b17ae",
   "metadata": {},
   "source": [
    "### Implementing XGBOOST Algorithm on the same Dataset"
   ]
  },
  {
   "cell_type": "code",
   "execution_count": 9,
   "id": "4d9ba51f",
   "metadata": {},
   "outputs": [],
   "source": [
    "train = np.argmax(y,axis =  1)"
   ]
  },
  {
   "cell_type": "code",
   "execution_count": 10,
   "id": "1acbdd56",
   "metadata": {},
   "outputs": [
    {
     "data": {
      "text/plain": [
       "(6549,)"
      ]
     },
     "execution_count": 10,
     "metadata": {},
     "output_type": "execute_result"
    }
   ],
   "source": [
    "train.shape"
   ]
  },
  {
   "cell_type": "code",
   "execution_count": 11,
   "id": "502b7aac",
   "metadata": {},
   "outputs": [],
   "source": [
    "test = np.argmax(val_y,axis =  1)"
   ]
  },
  {
   "cell_type": "code",
   "execution_count": 12,
   "id": "24db4de3",
   "metadata": {},
   "outputs": [
    {
     "data": {
      "text/plain": [
       "(2183,)"
      ]
     },
     "execution_count": 12,
     "metadata": {},
     "output_type": "execute_result"
    }
   ],
   "source": [
    "test.shape"
   ]
  },
  {
   "cell_type": "code",
   "execution_count": 13,
   "id": "f71f92ea",
   "metadata": {},
   "outputs": [
    {
     "data": {
      "text/plain": [
       "(6549, 40)"
      ]
     },
     "execution_count": 13,
     "metadata": {},
     "output_type": "execute_result"
    }
   ],
   "source": [
    "x =X\n",
    "X.shape"
   ]
  },
  {
   "cell_type": "code",
   "execution_count": 14,
   "id": "ed11308f",
   "metadata": {},
   "outputs": [],
   "source": [
    "test_x = val_x"
   ]
  },
  {
   "cell_type": "code",
   "execution_count": 15,
   "id": "166f3f42",
   "metadata": {},
   "outputs": [],
   "source": [
    "from xgboost import XGBClassifier"
   ]
  },
  {
   "cell_type": "code",
   "execution_count": 16,
   "id": "6b6b3b73",
   "metadata": {},
   "outputs": [],
   "source": [
    "model = XGBClassifier(learning_rate =0.1, \n",
    "                      n_estimators=280, \n",
    "                      max_depth=5,\n",
    "                      min_child_weight=1, \n",
    "                      gamma=0, \n",
    "                      subsample=0.8, \n",
    "                      colsample_bytree=0.8,\n",
    "                      objective= 'binary:logistic', \n",
    "                      nthread=4, \n",
    "                      scale_pos_weight=1, \n",
    "                      seed=60)"
   ]
  },
  {
   "cell_type": "code",
   "execution_count": 17,
   "id": "68ae93bf",
   "metadata": {},
   "outputs": [
    {
     "data": {
      "text/plain": [
       "XGBClassifier(colsample_bytree=0.8, max_depth=5, n_estimators=280, nthread=4,\n",
       "              objective='multi:softprob', seed=60, subsample=0.8)"
      ]
     },
     "execution_count": 17,
     "metadata": {},
     "output_type": "execute_result"
    }
   ],
   "source": [
    "model.fit(x,train)"
   ]
  },
  {
   "cell_type": "code",
   "execution_count": 18,
   "id": "666cbe29",
   "metadata": {},
   "outputs": [],
   "source": [
    "pred = model.predict(test_x)"
   ]
  },
  {
   "cell_type": "code",
   "execution_count": 19,
   "id": "00698103",
   "metadata": {},
   "outputs": [
    {
     "data": {
      "text/plain": [
       "array([1, 7, 2, ..., 6, 0, 2])"
      ]
     },
     "execution_count": 19,
     "metadata": {},
     "output_type": "execute_result"
    }
   ],
   "source": [
    "pred"
   ]
  },
  {
   "cell_type": "code",
   "execution_count": 21,
   "id": "e65f0507",
   "metadata": {},
   "outputs": [
    {
     "data": {
      "text/plain": [
       "array([1, 7, 8, ..., 6, 0, 2])"
      ]
     },
     "execution_count": 21,
     "metadata": {},
     "output_type": "execute_result"
    }
   ],
   "source": [
    "test"
   ]
  },
  {
   "cell_type": "code",
   "execution_count": 22,
   "id": "f6c6c8a1",
   "metadata": {},
   "outputs": [
    {
     "data": {
      "text/plain": [
       "0.9033440219880898"
      ]
     },
     "execution_count": 22,
     "metadata": {},
     "output_type": "execute_result"
    }
   ],
   "source": [
    "import sklearn.metrics as met\n",
    "met.accuracy_score(test, pred)"
   ]
  },
  {
   "cell_type": "code",
   "execution_count": 23,
   "id": "13e80a04",
   "metadata": {},
   "outputs": [
    {
     "data": {
      "text/plain": [
       "array([[253,   0,   2,   0,   1,   1,   0,   1,   0,   3],\n",
       "       [  0,  99,   1,   0,   2,   3,   1,   0,   0,   7],\n",
       "       [  1,   1, 216,  10,   1,   1,   0,   0,   0,   9],\n",
       "       [  1,   2,  15, 197,   3,   1,   4,   0,   4,   9],\n",
       "       [  2,   0,   1,   3, 220,   1,   0,  13,   0,   5],\n",
       "       [  1,   0,   2,   0,   1, 238,   0,   0,   0,   2],\n",
       "       [  0,   0,   8,  13,   1,   0,  79,   0,   0,   3],\n",
       "       [  0,   0,   0,   0,   6,   0,   0, 240,   0,   2],\n",
       "       [  1,   0,  10,   4,   0,   1,   0,   0, 230,   0],\n",
       "       [  2,   1,  22,   6,   5,   1,   0,   3,   7, 200]])"
      ]
     },
     "execution_count": 23,
     "metadata": {},
     "output_type": "execute_result"
    }
   ],
   "source": [
    "met.confusion_matrix(test, pred)"
   ]
  },
  {
   "cell_type": "markdown",
   "id": "738bedeb",
   "metadata": {},
   "source": [
    "### Implementing Random Forest on the same dataset"
   ]
  },
  {
   "cell_type": "code",
   "execution_count": 24,
   "id": "9a9280f7",
   "metadata": {},
   "outputs": [],
   "source": [
    "from sklearn.ensemble import RandomForestClassifier"
   ]
  },
  {
   "cell_type": "code",
   "execution_count": 25,
   "id": "e6c6623b",
   "metadata": {},
   "outputs": [
    {
     "name": "stderr",
     "output_type": "stream",
     "text": [
      "WARNING: pip is being invoked by an old script wrapper. This will fail in a future version of pip.\n",
      "Please see https://github.com/pypa/pip/issues/5599 for advice on fixing the underlying issue.\n",
      "To avoid this problem you can invoke Python with '-m pip' instead of running pip directly.\n"
     ]
    },
    {
     "name": "stdout",
     "output_type": "stream",
     "text": [
      "Requirement already satisfied: progressbar in /Users/snigdhakakkar/opt/anaconda2/envs/tf/lib/python3.7/site-packages (2.5)\n"
     ]
    }
   ],
   "source": [
    "from pip._internal import main\n",
    "main([\"install\",\"progressbar\"])\n",
    "import progressbar\n",
    "import time"
   ]
  },
  {
   "cell_type": "code",
   "execution_count": 26,
   "id": "54c223b9",
   "metadata": {},
   "outputs": [],
   "source": [
    "score = []\n",
    "l = [i for i in range(50,300,25)]\n",
    "for i in range(50,300,25):\n",
    "  model = RandomForestClassifier(n_estimators=i ,criterion = \"entropy\", bootstrap= False)\n",
    "  model.fit(x,train)\n",
    "  pred = model.predict(test_x)\n",
    "  score.append(met.accuracy_score(test, pred))"
   ]
  },
  {
   "cell_type": "code",
   "execution_count": 27,
   "id": "6905d1b3",
   "metadata": {},
   "outputs": [
    {
     "data": {
      "image/png": "[encoded data removed]",
      "text/plain": [
       "<Figure size 432x288 with 1 Axes>"
      ]
     },
     "metadata": {
      "needs_background": "light"
     },
     "output_type": "display_data"
    }
   ],
   "source": [
    "from matplotlib import pyplot as plt\n",
    "plt.plot(l,score)\n",
    "plt.show()"
   ]
  },
  {
   "cell_type": "code",
   "execution_count": null,
   "id": "ebd55ca9",
   "metadata": {},
   "outputs": [],
   "source": []
  }
 ],
 "metadata": {
  "kernelspec": {
   "display_name": "Python 3 (ipykernel)",
   "language": "python",
   "name": "python3"
  },
  "language_info": {
   "codemirror_mode": {
    "name": "ipython",
    "version": 3
   },
   "file_extension": ".py",
   "mimetype": "text/x-python",
   "name": "python",
   "nbconvert_exporter": "python",
   "pygments_lexer": "ipython3",
   "version": "3.7.10"
  }
 },
 "nbformat": 4,
 "nbformat_minor": 5
}
